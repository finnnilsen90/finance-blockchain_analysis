{
 "cells": [
  {
   "cell_type": "code",
   "execution_count": null,
   "id": "8e1b85b2",
   "metadata": {
    "slideshow": {
     "slide_type": "skip"
    }
   },
   "outputs": [],
   "source": [
    "import pandas as pd\n",
    "import numpy as np\n",
    "import requests\n",
    "import datetime\n",
    "import json\n",
    "from matplotlib import pyplot\n",
    "\n",
    "# Yahoo Finance - Import yfinance package\n",
    "import yfinance as yf\n",
    "\n",
    "#functions\n",
    "import finn_finance as f"
   ]
  },
  {
   "cell_type": "code",
   "execution_count": null,
   "id": "cdfa7738",
   "metadata": {
    "slideshow": {
     "slide_type": "skip"
    }
   },
   "outputs": [],
   "source": [
    "# Set Lookback\n",
    "lookback_window = 30\n",
    "\n",
    "today = datetime.date.today()\n",
    "days = datetime.timedelta(lookback_window)\n",
    "lookback = today - days\n",
    "\n",
    "start_date = lookback\n",
    "end_date = today\n",
    "print('Start Date: '+str(start_date))\n",
    "print('End Date: '+str(end_date))"
   ]
  },
  {
   "cell_type": "code",
   "execution_count": null,
   "id": "27dc069f",
   "metadata": {
    "slideshow": {
     "slide_type": "slide"
    }
   },
   "outputs": [],
   "source": [
    "# Crypto data analysis\n",
    "ticker_crypto = ['BTC/USD','ETH/USD']\n",
    "\n",
    "for i in ticker_crypto:\n",
    "    # Get the data\n",
    "    data = f.fetch_daily_data(i)\n",
    "    date_candle = pd.read_csv(data,index_col=['date'],parse_dates=True,chunksize=1000)\n",
    "    date_candle = pd.concat((x.query(\"date > %a\"%(start_date)) for x in date_candle))\n",
    "    date_candle = date_candle.sort_values(by='date')\n",
    "\n",
    "    print(i)\n",
    "    f.candle_stick(date_candle,i)"
   ]
  },
  {
   "cell_type": "code",
   "execution_count": null,
   "id": "60554216",
   "metadata": {},
   "outputs": [],
   "source": [
    "# Calculate satoshi bit coin\n",
    "\n",
    "def satoshi_price(btc):\n",
    "    satoshi = btc/100000000\n",
    "    return satoshi\n",
    "\n",
    "bitcoin_price = [46726.59,38000.00,35000.00,30000.00]\n",
    "bitcoin_sell_price = [70000.00,70000,70000,70000]\n",
    "investment = [100,200,300,300]\n",
    "\n",
    "satoshi_owned  = 0\n",
    "\n",
    "for i in range(len(investment)):\n",
    "    satoshi_buy_price = satoshi_price(bitcoin_price[i])\n",
    "    satoshi = investment[i]/satoshi_buy_price\n",
    "    \n",
    "    satoshi_owned = satoshi_owned + satoshi\n",
    "    \n",
    "    print('')\n",
    "    print('Investment '+str(i+1))\n",
    "    print('Satoshi Buy Price: $'+str(satoshi_buy_price))\n",
    "    print('Investment: $'+str(investment[i]))\n",
    "    print('Satoshi: '+str(satoshi))\n",
    "\n",
    "    satoshi_sell_price = satoshi_price(bitcoin_sell_price[i])\n",
    "    value = satoshi_sell_price*satoshi\n",
    "    print('Satoshi Sell Price: $'+str(satoshi_sell_price))\n",
    "    print('Value: $'+str(value))\n",
    "    print('Net: $'+str(value-investment[i]))\n",
    "\n"
   ]
  },
  {
   "cell_type": "code",
   "execution_count": null,
   "id": "a37b3ee3",
   "metadata": {},
   "outputs": [],
   "source": [
    "from finn_finance import account_look\n",
    "\n",
    "transactions = [['BTC/USD',46726.59,'2022-04-04',97.01],['BTC/USD',37837.50,'2022-05-01',197.01],['BTC/USD',30810.31,'2022-05-09',295.60],['ETH/USD',3525.92,'2022-04-04',97.01],['ETH/USD',2880.60,'2022-05-01',197.01],['ETH/USD',2297.32,'2022-05-09',295.60]]\n",
    "\n",
    "# print(account_look(transactions,'ETH/USD').filter_transactions()[0][2])\n",
    "df = account_look(transactions,'ETH/USD').account_holding()\n",
    "\n",
    "pyplot.rcParams[\"figure.figsize\"] = [12, 3.50]\n",
    "df.plot.line()"
   ]
  },
  {
   "cell_type": "code",
   "execution_count": null,
   "id": "6087dc39",
   "metadata": {},
   "outputs": [],
   "source": [
    "# Calculate wei bit coin\n",
    "\n",
    "def wei_price(eth):\n",
    "    wei = eth/pow(10,18)\n",
    "    return wei\n",
    "\n",
    "ethereum_price = [3525.92,2300.00,2100.00]\n",
    "ethereum_sell_price = [4800.00,4800.00,4800.00]\n",
    "investment = [100,300,300]\n",
    "\n",
    "for i in range(len(investment)):\n",
    "    ethereum_buy_price = wei_price(ethereum_price[i])\n",
    "    wei = investment[i]/ethereum_buy_price\n",
    "    \n",
    "    print('')\n",
    "    print('Investment '+str(i+1))\n",
    "    print('Wei Buy Price: $'+str(ethereum_buy_price))\n",
    "    print('Investment: $'+str(investment[i]))\n",
    "    print('Wei: '+str(wei))\n",
    "    \n",
    "    wei_sell_price = wei_price(ethereum_sell_price[i])\n",
    "    value = wei_sell_price*wei\n",
    "    print('Wei Sell Price: $'+str(wei_sell_price))\n",
    "    print('Value: $'+str(value))\n",
    "    print('Net: $'+str(value-investment[i]))"
   ]
  },
  {
   "cell_type": "code",
   "execution_count": null,
   "id": "124f47b0",
   "metadata": {},
   "outputs": [],
   "source": [
    "# Pivot by monthly high and low\n",
    "# Generate BTC CSV.\n",
    "data = f.fetch_daily_data(ticker_crypto[0])\n",
    "df = pd.read_csv(data)\n",
    "\n",
    "df['month'] = pd.to_datetime(df['date']).dt.strftime('%B') # make a month column to preserve the order\n",
    "df['year'] = pd.to_datetime(df['date']).dt.strftime('%Y') # make a month column to preserve the order\n",
    "pivot = pd.pivot_table(df, values=['high','low'], index=['month','year','ticker'],aggfunc=np.average)\n",
    "pivot = pivot.sort_values(by=['month','year'], ascending = [True, True])\n",
    "pivot"
   ]
  },
  {
   "cell_type": "code",
   "execution_count": null,
   "id": "58eac0e7",
   "metadata": {
    "slideshow": {
     "slide_type": "slide"
    }
   },
   "outputs": [],
   "source": [
    "# Stock market data analysis commodities\n",
    "\n",
    "# Set the ticker\n",
    "ticker_stock = ['BHP','VALE']\n",
    "\n",
    "for i in ticker_stock:\n",
    "    # Get the data\n",
    "    data = yf.download(i, start_date, end_date, auto_adjust=True)\n",
    "    print(i)\n",
    "    f.candle_stick(data,i)"
   ]
  },
  {
   "cell_type": "code",
   "execution_count": null,
   "id": "f7aff53c",
   "metadata": {},
   "outputs": [],
   "source": [
    "# Stock market data analysis tech\n",
    "\n",
    "# Set the ticker\n",
    "ticker_stock = ['AAPL']\n",
    "\n",
    "for i in ticker_stock:\n",
    "    # Get the data\n",
    "    data = yf.download(i, start_date, end_date, auto_adjust=True)\n",
    "    print(i)\n",
    "    f.candle_stick(data,i)"
   ]
  },
  {
   "cell_type": "code",
   "execution_count": null,
   "id": "7258f694",
   "metadata": {},
   "outputs": [],
   "source": [
    "# Stock market data analysis energy\n",
    "\n",
    "# Set the ticker\n",
    "ticker_stock = ['UNG']\n",
    "\n",
    "for i in ticker_stock:\n",
    "    # Get the data\n",
    "    data = yf.download(i, start_date, end_date, auto_adjust=True)\n",
    "    print(i)\n",
    "    f.candle_stick(data,i)"
   ]
  },
  {
   "cell_type": "code",
   "execution_count": null,
   "id": "48201eed",
   "metadata": {
    "slideshow": {
     "slide_type": "skip"
    }
   },
   "outputs": [],
   "source": []
  }
 ],
 "metadata": {
  "celltoolbar": "Slideshow",
  "kernelspec": {
   "display_name": "Python 3 (ipykernel)",
   "language": "python",
   "name": "python3"
  },
  "language_info": {
   "codemirror_mode": {
    "name": "ipython",
    "version": 3
   },
   "file_extension": ".py",
   "mimetype": "text/x-python",
   "name": "python",
   "nbconvert_exporter": "python",
   "pygments_lexer": "ipython3",
   "version": "3.10.1"
  },
  "widgets": {
   "application/vnd.jupyter.widget-state+json": {
    "state": {},
    "version_major": 2,
    "version_minor": 0
   }
  }
 },
 "nbformat": 4,
 "nbformat_minor": 5
}
